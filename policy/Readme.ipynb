{
 "cells": [
  {
   "cell_type": "markdown",
   "metadata": {},
   "source": [
    "# Project 3 - Behavioral Cloning with Keras"
   ]
  },
  {
   "cell_type": "markdown",
   "metadata": {},
   "source": [
    "The main goal of this project is developement and training a Deep Network to clone human behavioral during driving a car, thus being able to drive autonomously on a simulator, provided by Udacity. The deep network drives the car autonomously along a track, using the image from cenral camera to predict steering angle at each instant."
   ]
  },
  {
   "cell_type": "markdown",
   "metadata": {},
   "source": [
    "## General description.\n",
    "\n",
    "The simulated car is equipped with three cameras, one on the left side, one in the center and one on the right side of the car, that provide images from these different view points. Simulator supports two modes: training mode and autonomous mode. Training mode allows to use all three cameras for recording dataset, used for model training. In autonomous mode only central camera provides images for steering angle prediction. The training Track 1 has bridge, sharp corners, exits, entries, partially missing lane lines of the road bends. An additional test Track 2 for testing the model, has changing elevations, even sharper turns and bumps. It is thus crucial that the Deep Network not only memorize the first track during training, but able to generalize the unseen data to perform correct prediction of steering angles to drive the Track 2 successfully. The developed model was trained only on the training Track 1 and it successfully drives on the test Track 2. The model was trained on Udacity dataset, which contains recorded one lap of the Track 1."
   ]
  },
  {
   "cell_type": "markdown",
   "metadata": {},
   "source": [
    "## Dataset\n",
    "\n",
    "The model was trained on Udacity dataset, containing 8036 samples. Each sample provides the following data, as you can see from the table below:\n",
    "<ol>\n",
    "<li>images from three cameras</li>\n",
    "<li>corresponding steering angle</li>\n",
    "<li>throttle</li>\n",
    "<li>break</li>\n",
    "<li>speed value</li>\n",
    "</ol>\n",
    "![data_records](imgs/driving-log-output.png)\n",
    "\n",
    "#### Image samples\n",
    "\n",
    "Below you can see typical images from three cameras in each sample record.\n",
    "\n",
    "![camera_images](imgs/camera_samples.png)\n",
    "\n",
    "#### Data distribution\n",
    "\n",
    "Udacity dataset contains record of one lap with human driving along the middle of the road. The analysis of the dataset shows, that the dataset has huge skew in the ground truth data distribution: the steering angle distribution is strongly biased towards the straight direction. \n",
    "\n",
    "![training_data_before_preprocessing](imgs/histogram_udacity_dataset.png)\n",
    "\n",
    "Without accounting for this bias towards the straight direction, the model will not ever learn what to do if it gets off to the side of the road, and as result, the car usually leaves the tack quickly. One way to counteract this problem is to add record data to the dataset when the car is driving from the side of the road back toward the center line."
   ]
  },
  {
   "cell_type": "markdown",
   "metadata": {},
   "source": [
    "## Preparation of training dataset\n",
    "\n",
    "The model was trained on Udacity dataset, containing 8036 samples. As it mentioned above, the first problem with the source dataset is huge bias towards the zero direction. The second problem is small size of training data for training Deep Network with large capacity. To solve these two problems and to improve generalization property of model to drive on unseen tracks, bootstrapping approach (random sampling with replacement) with data augmentation is used to generate a batch with requested size during the training of the model.  \n",
    "\n",
    "### Data augmentation\n",
    "<ol>\n",
    "<li>Exploting all three cameras </li>\n",
    "<li>Variation of brightness</li>\n",
    "<li>Horizontal flipping</li>\n",
    "<li>Horizontal and vertical shifting</li>\n",
    "<li>Shifting the bias</li>\n",
    "<li>Image cropping</li>\n",
    "</ol>\n",
    "\n",
    "#### Exploting all three cameras\n",
    "Randomly, the image from one of the center, left or right cameras is used with correction of steering direction as a training sample. This approach, reported in [NVIDIA paper](https://arxiv.org/pdf/1604.07316v1.pdf), allows the model to learn scenarios recovering during driving from the left or right sides of road to the middle of the road.\n",
    "\n",
    "#### Variation of brightness\n",
    "Variation of brightness increases variation in trained data to get the model more robust to different light conditions.\n",
    "\n",
    "#### Horizontal flipping\n",
    "Horizontal flipping increases variation in trained data and allows to learn the model scenarious to drive along left or right sides of the road with further smooth recovering to the middle of the road. Small vertical flipping is used to increase variation in trained data too with some robustness to horizontal variations.\n",
    "\n",
    "#### Shifting the bias\n",
    "The bias parameter with values in range [0, 1] and with random uniform thresholding was added for steering angles to tune the probability of dropout samples with steering angle close to zero from generated trained batch. The effect of bias parameter is demonstrated below on histogram of generated train batch from 2048 samples.\n",
    "![training_data_after_preprocessing](imgs/histogram_data_steering_angles.png)\n",
    "\n",
    "#### Image cropping\n",
    "The preprocessed image is cropped to the size 160x80 of input layer used in the model. The bonnet of the car and half part of sky is removed during cropping too."
   ]
  },
  {
   "cell_type": "markdown",
   "metadata": {},
   "source": [
    "## Model architecture\n",
    "\n",
    "To predict steering angles, a CNN with 730,033 parameters was developed: 3 sequentially connected convolutional layers, 3 full connected layers and one fully connected neuron. The CNN architecture is presented in the table below. The input RGB image is resized to the size of input layer: 160x80, RGB channels. The image normalization to the range [-0.5, 0.5] is implemented in the model as a lambda layer. The output neuron regresses the correct steering value from the features it receives from the previous layers. All three convolutional layers use 3x3 filter with stride equal to 1. The choice of using ELU activation function, instead of more traditional ReLU, come from model of [CommaAI](https://github.com/commaai/research/blob/master/train_steering_model.py), which was developed for the same task of steering regression.\n",
    "\n",
    "To prevent overfitting of model, three dropout layes were added with drop probability 0.5.\n",
    "\n",
    "\n",
    "|     Layer (type)     |    Output Shape     | Param #                        \n",
    "|----------------------|---------------------|-----------\n",
    "|  Lambda_1 (Lambda)   | (None, 80, 160, 3)  |   0                     \n",
    "|  Convolution2D       | (None, 78, 158, 16) |   448         \n",
    "|  ELU (Activation)    | (None, 78, 158, 16) |   0           \n",
    "|  Maxpooling (2x2)    | (None, 39, 79, 16)  |   0           \n",
    "|  Convolution2D       | (None, 37, 77, 32)  |   4640        \n",
    "|  ELU (Activation)    | (None, 37, 77, 32)  |   0           \n",
    "|  Maxpooling (2x2)    | (None, 12, 25, 32)  |   0           \n",
    "|  Convolution2D       | (None, 10, 23, 48)  |   13872       \n",
    "|  ELU (Activation)    | (None, 10, 23, 48)  |   0           \n",
    "|  Maxpooling (2x2)    | (None, 5, 11, 48)   |   0           \n",
    "|  Flatten             | (None, 2640)        |   0           \n",
    "|  Dropout             | (None, 2640)        |   0           \n",
    "|  Dense               | (None, 256)         |   676096      \n",
    "|  ELU (Activation)    | (None, 256)         |   0           \n",
    "|  Dropout             | (None, 256)         |   0           \n",
    "|  Dense               | (None, 128)         |   32896       \n",
    "|  ELU (Activation)    | (None, 128)         |   0           \n",
    "|  Dense               | (None, 16)          |   2064        \n",
    "|  ELU (Activation)    | (None, 16)          |   0           \n",
    "|  Dense               | (None, 1)           |   17                             \n",
    "||||\n",
    "|Total params: 730,033\n"
   ]
  },
  {
   "cell_type": "markdown",
   "metadata": {},
   "source": [
    "## Training the model\n",
    "\n",
    "The model was compiled with Adam optimizer with default parameters and specified learning rate, equal to 0.001. The model was trained on desktop computer with 4 cores (8 logical cores) on Windows 10.\n",
    "\n",
    "The bias parameter was fixed as 0.8 but this parameter can be changed along epochs to improve learning performance. The initial dataset is splitted on training and validation sets as 80% vs 20%. The model was trained on 10 epochs, every epoch has 20224 generated samples. Every batch with 256 samples is generated from training dataset with data  augmentation, as described above. \n"
   ]
  },
  {
   "cell_type": "markdown",
   "metadata": {},
   "source": [
    "## Validation the model\n",
    "\n",
    "The model was evaluated on validation set, 20% of Udacity dataset. Only central camera without any data augmentation is used during generation of validation set."
   ]
  },
  {
   "cell_type": "markdown",
   "metadata": {},
   "source": [
    "## Testing the model and Results\n",
    "\n",
    "After the training the model, when the car smoothly drives along training Track 1, the network can successfully drives  along unseen testing Track 2 too.\n",
    "\n",
    "A video of the test track performance is shown below.\n",
    "\n",
    "[![ScreenShot](imgs/track1.jpg)](https://youtu.be/YnP_kDSxEf8)\n",
    "\n",
    "The performance of the same CNN on the training track is shown below.\n",
    "\n",
    "[![ScreenShot](imgs/track2.jpg)](https://youtu.be/HE_y7rX2Izo)\n"
   ]
  },
  {
   "cell_type": "markdown",
   "metadata": {},
   "source": [
    "## Conclusions\n",
    "\n",
    "Data augmentation, with according steering angle updates to generate samples for different learning scenarious, allows to train a neural network to recover the car from extreme events, like different row conditions, different lighting conditions, by just simulating such events from regular driving data.\n",
    "\n",
    "The developed deep network can be improved and redesigned to the aim of improvement generalization of model to drive in more difficult conditions. One of the way to experiment with construction of model, is to use RNN architecture with elements of VGG16 for features extraction to predict next element in context of previous element."
   ]
  }
 ],
 "metadata": {
  "anaconda-cloud": {},
  "kernelspec": {
   "display_name": "Python 3",
   "language": "python",
   "name": "python3"
  },
  "language_info": {
   "codemirror_mode": {
    "name": "ipython",
    "version": 3
   },
   "file_extension": ".py",
   "mimetype": "text/x-python",
   "name": "python",
   "nbconvert_exporter": "python",
   "pygments_lexer": "ipython3",
   "version": "3.5.2"
  },
  "widgets": {
   "state": {},
   "version": "1.1.2"
  }
 },
 "nbformat": 4,
 "nbformat_minor": 0
}
